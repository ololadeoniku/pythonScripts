{
 "cells": [
  {
   "cell_type": "code",
   "execution_count": 7,
   "metadata": {},
   "outputs": [
    {
     "data": {
      "text/plain": [
       "(array([2.5+1.93649167j, 2.5-1.93649167j]),\n",
       " array([[-0.1118034 +0.4330127j, -0.1118034 -0.4330127j],\n",
       "        [ 0.89442719+0.j       ,  0.89442719-0.j       ]]))"
      ]
     },
     "execution_count": 7,
     "metadata": {},
     "output_type": "execute_result"
    }
   ],
   "source": [
    "import numpy as np\n",
    "from numpy import linalg as LA\n",
    "input = np.array([[2,-1],[4,3]])\n",
    "w, v = LA.eig(input)\n",
    "w, v"
   ]
  },
  {
   "cell_type": "code",
   "execution_count": null,
   "metadata": {},
   "outputs": [],
   "source": [
    "# !pip install --trusted-host pypi.org ipython-sql\n",
    "import psycopg2\n",
    "import pymysql\n",
    "import sqlalchemy\n",
    "import mysql.connector"
   ]
  },
  {
   "cell_type": "code",
   "execution_count": 12,
   "metadata": {},
   "outputs": [],
   "source": [
    "%load_ext sql"
   ]
  },
  {
   "cell_type": "code",
   "execution_count": 26,
   "metadata": {},
   "outputs": [],
   "source": []
  },
  {
   "cell_type": "code",
   "execution_count": null,
   "metadata": {},
   "outputs": [],
   "source": [
    "%%sql\n",
    "\n",
    "CREATE TABLE IF NOT EXISTS INTERNATIONAL_STUDENT_TEST_SCORES (\n",
    "    country VARCHAR(50),\n",
    "    first_name VARCHAR(50),\n",
    "    last_name VARCHAR(50),\n",
    "    test_score INT\n",
    "    );"
   ]
  },
  {
   "cell_type": "code",
   "execution_count": 30,
   "metadata": {},
   "outputs": [],
   "source": [
    "engine = sqlalchemy.create_engine('mysql+mysqlconnector://root:pw@localhost/db')\n",
    "# def sqlDF(sql):\n",
    "#     conn = engine.connect()\n",
    "#     print(conn)\n",
    "#     result = conn.execute(sql)\n",
    "#     print(result)\n",
    "# #     columns = result._metadata.keys\n",
    "# #     resultDF = pd.DataFrame([r for r in result.fetchall()], columns=columns)\n",
    "#     conn.close()\n",
    "#     return result\n",
    "\n",
    "# df = sqlDF(\"CREATE TABLE IF NOT EXISTS Country_Code ( \\\n",
    "#     Code Integer primary key not null, \\\n",
    "#     Country VARCHAR(50));\")\n",
    "\n",
    "# df2 = pd.read_sql('select * from queries limit 1', engine)\n",
    "# df2.head()\n",
    "\n",
    "\n",
    "# state='FINISHED'\n",
    "# %sql SELECT :state as \"bind_variable\"\n"
   ]
  },
  {
   "cell_type": "markdown",
   "metadata": {},
   "source": [
    "## SQL with Flask"
   ]
  },
  {
   "cell_type": "code",
   "execution_count": 40,
   "metadata": {},
   "outputs": [],
   "source": [
    "from flask_sqlalchemy import SQLAlchemy\n",
    "from flask import Flask\n",
    "app = Flask(__name__)"
   ]
  },
  {
   "cell_type": "code",
   "execution_count": 54,
   "metadata": {},
   "outputs": [],
   "source": [
    "app.config['SQLALCHEMY_DATABASE_URI'] = 'mysql+mysqlconnector://root:pw@localhost/db'\n",
    "app.config['SQLALCHEMY_TRACK_MODIFICATIONS'] = False"
   ]
  },
  {
   "cell_type": "code",
   "execution_count": 59,
   "metadata": {},
   "outputs": [],
   "source": [
    "db = SQLAlchemy(app,'extend_existing = True')"
   ]
  },
  {
   "cell_type": "code",
   "execution_count": 60,
   "metadata": {},
   "outputs": [],
   "source": [
    "class User(db.Model):\n",
    "    id = db.Column(db.Integer, primary_key = True)\n",
    "    username = db.Column(db.String(80), unique = True)\n",
    "    email = db.Column(db.String(80), unique = True)\n",
    "    \n",
    "    def __init__(self, username, email):\n",
    "        self.username = username\n",
    "        self.email = email\n",
    "        \n",
    "db.create_all()"
   ]
  },
  {
   "cell_type": "code",
   "execution_count": 61,
   "metadata": {},
   "outputs": [],
   "source": [
    "class Employee(db.Model):\n",
    "    id = db.Column(db.Integer, primary_key = True)\n",
    "    username = db.Column(db.String(80), unique = True)\n",
    "    email = db.Column(db.String(80), unique = True)\n",
    "    \n",
    "    def __init__(self, username, email):\n",
    "        self.username = username\n",
    "        self.email = email\n",
    "        \n",
    "db.create_all()"
   ]
  },
  {
   "cell_type": "code",
   "execution_count": null,
   "metadata": {},
   "outputs": [],
   "source": []
  },
  {
   "cell_type": "code",
   "execution_count": null,
   "metadata": {},
   "outputs": [],
   "source": []
  }
 ],
 "metadata": {
  "kernelspec": {
   "display_name": "Python 3",
   "language": "python",
   "name": "python3"
  },
  "language_info": {
   "codemirror_mode": {
    "name": "ipython",
    "version": 3
   },
   "file_extension": ".py",
   "mimetype": "text/x-python",
   "name": "python",
   "nbconvert_exporter": "python",
   "pygments_lexer": "ipython3",
   "version": "3.7.3"
  }
 },
 "nbformat": 4,
 "nbformat_minor": 2
}
